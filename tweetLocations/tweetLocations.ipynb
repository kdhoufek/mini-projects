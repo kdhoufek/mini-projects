{
 "cells": [
  {
   "cell_type": "markdown",
   "metadata": {},
   "source": [
    "# Naive Bayes Project: Classify Tweets Based on Location\n",
    "\n",
    "This project is given by CodeCademy as an off-site project to classify the locations of different tweets. The datasets provided give tweets from three different locations: New York, London, and Paris. \n",
    "\n",
    "We will train our model using the Naive Bayes algorithm, which takes a list of vocabulary words and how often they appear for specific labels within a data set. When a new tweet is then introduced, it calculates the probability of that tweet coming from each individual city by utilizing Bayes' Theorem. To whichever city has the highest probability, the algorithm assigns the unlabeled tweet to it.\n",
    "\n",
    "To begin, we import the pandas library and our datasets, and make initial observations about the data."
   ]
  },
  {
   "cell_type": "code",
   "execution_count": null,
   "metadata": {},
   "outputs": [],
   "source": [
    "import pandas as pd\n",
    "\n",
    "new_york_tweets = pd.read_json()"
   ]
  }
 ],
 "metadata": {
  "kernelspec": {
   "display_name": "Python 3",
   "language": "python",
   "name": "python3"
  },
  "language_info": {
   "name": "python",
   "version": "3.12.6"
  }
 },
 "nbformat": 4,
 "nbformat_minor": 2
}
